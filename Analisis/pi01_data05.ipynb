{
 "cells": [
  {
   "cell_type": "code",
   "execution_count": 1,
   "metadata": {},
   "outputs": [],
   "source": [
    "#Preparamos la importacion de librerias e instalamos las que nos falten\n",
    "import sys\n",
    "import subprocess\n",
    "import pkg_resources\n",
    "\n",
    "required  = {'numpy', 'pandas', 'datetime'} \n",
    "installed = {pkg.key for pkg in pkg_resources.working_set}\n",
    "missing   = required - installed\n",
    "\n",
    "if missing:\n",
    "    subprocess.check_call([sys.executable, '-m', 'pip', 'install', *missing])"
   ]
  },
  {
   "cell_type": "code",
   "execution_count": 2,
   "metadata": {},
   "outputs": [],
   "source": [
    "#Importamos las librerias luego de la instalacion\n",
    "import os\n",
    "import pandas as pd\n",
    "import numpy as np\n",
    "import datetime"
   ]
  },
  {
   "cell_type": "code",
   "execution_count": 3,
   "metadata": {},
   "outputs": [],
   "source": [
    "#Creamos los dataframes eliminando los duplicados\n",
    "df_netflix_titles = pd.read_json(r'/home/guille/Proyectos/pi01_data05_O/Datasets/netflix_titles.json').drop_duplicates()\n",
    "df_amazon_prime_titles = pd.read_csv(r'/home/guille/Proyectos/pi01_data05_O/Datasets/amazon_prime_titles.csv').drop_duplicates()\n",
    "df_disney_plus_titles = pd.read_csv(r'/home/guille/Proyectos/pi01_data05_O/Datasets/disney_plus_titles.csv').drop_duplicates()\n",
    "df_hulu_titles = pd.read_csv(r'/home/guille/Proyectos/pi01_data05_O/Datasets/hulu_titles.csv').drop_duplicates()"
   ]
  },
  {
   "cell_type": "code",
   "execution_count": 4,
   "metadata": {},
   "outputs": [],
   "source": [
    "# Se crea columna plataforma\n",
    "df_netflix_titles['plataforma'] = 'netflix'\n",
    "df_amazon_prime_titles['plataforma'] = 'amazon'\n",
    "df_disney_plus_titles['plataforma'] = 'disney'\n",
    "df_hulu_titles['plataforma'] = 'hulu'"
   ]
  },
  {
   "cell_type": "code",
   "execution_count": 5,
   "metadata": {},
   "outputs": [],
   "source": [
    "# Se concatena cada dateframe verticalmente, ya que coinciden los nombres de las columnas\n",
    "df_plataformas_concatenadas= pd.concat([df_netflix_titles,df_amazon_prime_titles,df_disney_plus_titles,df_hulu_titles])\n"
   ]
  },
  {
   "cell_type": "markdown",
   "metadata": {},
   "source": [
    "Variables objetivos a tener en cuenta : plataforma - release_year  - duration - time_unit - cast."
   ]
  },
  {
   "cell_type": "code",
   "execution_count": 6,
   "metadata": {},
   "outputs": [],
   "source": [
    "# Se normaliza el dataframe concatenado\n",
    "df_plataformas_concatenadas['date_added'] = pd.to_datetime(df_plataformas_concatenadas[\"date_added\"])\n",
    "df_plataformas_concatenadas['release_year'] = pd.to_numeric(df_plataformas_concatenadas['release_year'],downcast=\"integer\")\n",
    "# Se esplitea la columna 'duration' para obtener una columna cuantitativa y otra categorica\n",
    "cat = df_plataformas_concatenadas['duration'].str.split(\" \", n = 1, expand =True) \n",
    "df_plataformas_concatenadas['duration']= cat[0] \n",
    "df_plataformas_concatenadas['time_unit']= cat[1] \n",
    "# Se reemplazan los valores nulos por 0\n",
    "df_plataformas_concatenadas['duration'].fillna(value=0,inplace=True)\n",
    "# Se convierte a entero\n",
    "df_plataformas_concatenadas = df_plataformas_concatenadas.astype({\"duration\": int})\n"
   ]
  },
  {
   "cell_type": "code",
   "execution_count": 7,
   "metadata": {},
   "outputs": [],
   "source": [
    "# Se guarda el dataframe en un csv que va utilizar fastapi para realizar las consultas y como resguardo\n",
    "df_plataformas_concatenadas.to_csv('df_plataformas_concatenadas', encoding='utf-8')"
   ]
  },
  {
   "cell_type": "markdown",
   "metadata": {},
   "source": [
    "Declaración de las funciones requeridas y sus respectivos testeos."
   ]
  },
  {
   "cell_type": "code",
   "execution_count": 8,
   "metadata": {},
   "outputs": [],
   "source": [
    "# Funcion para obtener titulo de máxima duración según tipo de film (película/serie), por plataforma y por año\n",
    "def get_max_duration(año,plataforma,unit_time):\n",
    "    df_plataforma = df_plataformas_concatenadas.query(\"plataforma == @plataforma and release_year == @año and time_unit == @unit_time\")\n",
    "    maximo = df_plataforma['duration'].idxmax()\n",
    "    fila = df_plataforma.loc[maximo]\n",
    "    return(fila['title'])\n"
   ]
  },
  {
   "cell_type": "code",
   "execution_count": 9,
   "metadata": {},
   "outputs": [
    {
     "name": "stdout",
     "output_type": "stream",
     "text": [
      "The House That Jack Built\n"
     ]
    }
   ],
   "source": [
    "print(get_max_duration(2018,'hulu','min'))"
   ]
  },
  {
   "cell_type": "code",
   "execution_count": 10,
   "metadata": {},
   "outputs": [],
   "source": [
    "# Funcion para obtener cantidad de películas y series (separado) por plataforma \n",
    "def get_count_plataform (plataforma):\n",
    "    df_plataforma = df_plataformas_concatenadas.query(\"plataforma == @plataforma\")\n",
    "    contador = df_plataforma.type.value_counts(sort=True)\n",
    "    return (plataforma,contador[0],contador[1])\n",
    "  "
   ]
  },
  {
   "cell_type": "code",
   "execution_count": 11,
   "metadata": {},
   "outputs": [
    {
     "name": "stdout",
     "output_type": "stream",
     "text": [
      "('netflix', 6131, 2676)\n"
     ]
    }
   ],
   "source": [
    "print(get_count_plataform('netflix'))"
   ]
  },
  {
   "cell_type": "code",
   "execution_count": 12,
   "metadata": {},
   "outputs": [],
   "source": [
    "# Funcion para obtener Cantidad de veces que se repite un género y plataforma con mayor frecuencia del mismo\n",
    "def get_listedin (plataforma,categoria):\n",
    "    df_plataforma = df_plataformas_concatenadas.query(\"plataforma == @plataforma\")\n",
    "    return (plataforma, len(df_plataforma[df_plataforma.listed_in.str.contains(categoria)]))"
   ]
  },
  {
   "cell_type": "code",
   "execution_count": 13,
   "metadata": {},
   "outputs": [
    {
     "name": "stdout",
     "output_type": "stream",
     "text": [
      "('amazon', 2099)\n"
     ]
    }
   ],
   "source": [
    "print(get_listedin('amazon','Comedy'))"
   ]
  },
  {
   "cell_type": "code",
   "execution_count": 14,
   "metadata": {},
   "outputs": [],
   "source": [
    "# Funcion para obtener Actor que más se repite según plataforma y año\n",
    "def get_actor(plataforma,año):\n",
    "    df_plataforma = df_plataformas_concatenadas.query(\"plataforma == @plataforma and release_year == @año\")\n",
    "    new_df = pd.DataFrame(df_plataforma[\"cast\"].str.split(',', expand=True).stack(), columns=[\"C1\"])\n",
    "    contador = new_df['C1'].value_counts()\n",
    "    return (contador.index[0],contador[0])\n"
   ]
  },
  {
   "cell_type": "code",
   "execution_count": 15,
   "metadata": {},
   "outputs": [
    {
     "name": "stdout",
     "output_type": "stream",
     "text": [
      "(' Andrea Libman', 8)\n"
     ]
    }
   ],
   "source": [
    "print(get_actor('netflix',2018))"
   ]
  }
 ],
 "metadata": {
  "kernelspec": {
   "display_name": "Python 3.10.6 64-bit",
   "language": "python",
   "name": "python3"
  },
  "language_info": {
   "codemirror_mode": {
    "name": "ipython",
    "version": 3
   },
   "file_extension": ".py",
   "mimetype": "text/x-python",
   "name": "python",
   "nbconvert_exporter": "python",
   "pygments_lexer": "ipython3",
   "version": "3.10.6"
  },
  "orig_nbformat": 4,
  "vscode": {
   "interpreter": {
    "hash": "916dbcbb3f70747c44a77c7bcd40155683ae19c65e1c03b4aa3499c5328201f1"
   }
  }
 },
 "nbformat": 4,
 "nbformat_minor": 2
}
